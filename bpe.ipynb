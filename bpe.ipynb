{
 "metadata": {
  "language_info": {
   "codemirror_mode": {
    "name": "ipython",
    "version": 3
   },
   "file_extension": ".py",
   "mimetype": "text/x-python",
   "name": "python",
   "nbconvert_exporter": "python",
   "pygments_lexer": "ipython3",
   "version": "3.8.3-final"
  },
  "orig_nbformat": 2,
  "kernelspec": {
   "name": "python38364bits2senvcondae66ffa08aa624998ba98abeebbda9e1b",
   "display_name": "Python 3.8.3 64-bit ('s2s-env': conda)"
  }
 },
 "nbformat": 4,
 "nbformat_minor": 2,
 "cells": [
  {
   "cell_type": "code",
   "execution_count": null,
   "metadata": {},
   "outputs": [],
   "source": [
    "from collections import Counter, defaultdict\n",
    "from typing import List\n",
    "# corpus = \"the thesaurus speedy and greedy and fast for the us fasty and blasty the special theme for the usa\"\n",
    "corpus = \"\"\"Przetwarzanie języka naturalnego (ang. natural language processing, NLP) – interdyscyplinarna dziedzina, łącząca zagadnienia sztucznej inteligencji i językoznawstwa, zajmująca się automatyzacją analizy, rozumienia, tłumaczenia i generowania języka naturalnego przez komputer. System generujący język naturalny przekształca informacje zapisane w bazie danych komputera na język łatwy do odczytania i zrozumienia przez człowieka. Zaś system rozumiejący język naturalny przekształca próbki języka naturalnego na bardziej formalne symbole, łatwiejsze do przetworzenia dla programów komputerowych. Wiele problemów NLP wiąże się zarówno z generacją, jak i rozumieniem języka, np. model morfologiczny zdania (struktura słów), który komputer powinien zbudować, jest potrzebny zarazem do tego, by zdanie było zrozumiałe, jak i gramatycznie poprawne.\n",
    "\n",
    "NLP pokrywa się również w znacznej mierze z działem lingwistyki komputerowej i często uważany jest za poddział sztucznej inteligencji. Natomiast termin język naturalny używany jest, by odróżnić języki ludzkie (takie jak hiszpański, szwedzki czy polski) od języka formalnego czy komputerowego (jak C++, Java lub Lisp). Choć analiza języka naturalnego może zajmować się i tekstem, i mową, prace nad syntezą mowy rozwinęły się jako oddzielny dział. \"\"\""
   ]
  },
  {
   "cell_type": "code",
   "execution_count": null,
   "metadata": {},
   "outputs": [],
   "source": [
    "pre_vocab = Counter(corpus.split(' '))\n",
    "pre_vocab"
   ]
  },
  {
   "cell_type": "code",
   "execution_count": null,
   "metadata": {},
   "outputs": [],
   "source": [
    "vocab = {tuple(list(k) + ['</w>']): v for k, v in pre_vocab.items()}\n",
    "vocab"
   ]
  },
  {
   "cell_type": "code",
   "execution_count": null,
   "metadata": {},
   "outputs": [],
   "source": [
    "def count_pair(token:List[str]):\n",
    "    pairs = defaultdict(lambda: 0)\n",
    "    for i in range(len(token)-1):\n",
    "        pair = (token[i], token[i+1])\n",
    "        pairs[pair] += 1\n",
    "    return pairs"
   ]
  },
  {
   "cell_type": "code",
   "execution_count": null,
   "metadata": {},
   "outputs": [],
   "source": [
    "# count_pair(list('abababaaaaab') + ['</w>'])"
   ]
  },
  {
   "cell_type": "code",
   "execution_count": null,
   "metadata": {
    "tags": []
   },
   "outputs": [],
   "source": [
    "def count_pairs_for_vocab(vocab):\n",
    "    pairs = defaultdict(lambda: 0)\n",
    "    for token, occ in vocab.items():\n",
    "        counted_pairs = count_pair(token)\n",
    "        for k in counted_pairs:\n",
    "            counted_pairs[k] = counted_pairs[k]*occ\n",
    "        for k, v in counted_pairs.items():\n",
    "            pairs[k] += v\n",
    "    return pairs"
   ]
  },
  {
   "cell_type": "code",
   "execution_count": null,
   "metadata": {},
   "outputs": [],
   "source": [
    "# pairs"
   ]
  },
  {
   "cell_type": "code",
   "execution_count": null,
   "metadata": {},
   "outputs": [],
   "source": [
    "def find_most_common(vocab):\n",
    "    freqs = sorted(vocab.items(), key=lambda x:x[1], reverse=True)\n",
    "    most_freq = freqs[0]\n",
    "    return most_freq[0]\n",
    "\n",
    "# most_common = find_most_common(pairs)"
   ]
  },
  {
   "cell_type": "code",
   "execution_count": null,
   "metadata": {},
   "outputs": [],
   "source": [
    "# vocab"
   ]
  },
  {
   "cell_type": "code",
   "execution_count": null,
   "metadata": {
    "tags": []
   },
   "outputs": [],
   "source": [
    "def merge(key, x):\n",
    "    if len(key) == 1:\n",
    "        return key\n",
    "    newkey = []\n",
    "    skip_next=False\n",
    "    for i in range( len(key)-1):\n",
    "        if skip_next:\n",
    "            skip_next = False\n",
    "            continue\n",
    "        if key[i] == x[0] and key[i+1] == x[1]:\n",
    "            newkey.append(x[0]+x[1])\n",
    "            skip_next=True\n",
    "        else:\n",
    "            newkey.append(key[i])\n",
    "    if not skip_next:\n",
    "        newkey.append(key[i+1])\n",
    "    return tuple(newkey)\n",
    "\n",
    "print(merge(['t', 'h', 'e', '</w>'], ['t', 'h']))\n",
    "print(merge(['t', 'h', 'e', '</w>'], ['h', 'e']))\n",
    "print(merge(['t', 'h', 'e', '</w>'], ['e', '</w>']))\n",
    "print(merge(['the</w>'], ['e', '</w>']))"
   ]
  },
  {
   "cell_type": "code",
   "execution_count": null,
   "metadata": {
    "tags": []
   },
   "outputs": [],
   "source": [
    "def create_merged_vocab(vocab, most_common):\n",
    "\n",
    "    new_vocab = {}\n",
    "    for k,v in vocab.items():\n",
    "        merged = merge(k, most_common)\n",
    "        new_vocab[merged] = v\n",
    "    return new_vocab\n",
    "\n"
   ]
  },
  {
   "cell_type": "code",
   "execution_count": null,
   "metadata": {},
   "outputs": [],
   "source": [
    "# vocab"
   ]
  },
  {
   "cell_type": "code",
   "execution_count": null,
   "metadata": {
    "tags": []
   },
   "outputs": [],
   "source": [
    "for iteration in range(150):\n",
    "    vocab_counts = count_pairs_for_vocab(vocab)\n",
    "    to_merge = find_most_common(vocab_counts)\n",
    "    merged = create_merged_vocab(vocab, to_merge)\n",
    "    vocab = merged\n",
    "    print(f'======iteration {iteration}======')\n",
    "    # print(vocab)"
   ]
  },
  {
   "cell_type": "code",
   "execution_count": null,
   "metadata": {},
   "outputs": [],
   "source": [
    "vocab"
   ]
  },
  {
   "cell_type": "code",
   "execution_count": null,
   "metadata": {},
   "outputs": [],
   "source": []
  }
 ]
}
